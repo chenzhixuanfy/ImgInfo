{
 "cells": [
  {
   "cell_type": "markdown",
   "metadata": {},
   "source": [
    "统计directory_path根目录下所有jpg格式照片的焦段分布（自动跳过读不出焦距信息的照片）。建议复制一份，以免对原文件做出改动（虽然应该不会）。"
   ]
  },
  {
   "cell_type": "code",
   "execution_count": 90,
   "metadata": {},
   "outputs": [],
   "source": [
    "from PIL import Image\n",
    "import exifread\n",
    "from fractions import Fraction\n",
    "import os\n",
    "import matplotlib.pyplot as plt"
   ]
  },
  {
   "cell_type": "code",
   "execution_count": 91,
   "metadata": {},
   "outputs": [],
   "source": [
    "# 将形如'121/5', '5', '5.0'之类的字符串转为float\n",
    "def str_to_float(s):\n",
    "    # 检查字符串是否包含 '/'\n",
    "    if '/' in s:\n",
    "        # 如果包含 '/', 使用 Fraction 来处理分数并转换为 float\n",
    "        return float(Fraction(s))\n",
    "    else:\n",
    "        # 否则直接转换为 float\n",
    "        return float(s)"
   ]
  },
  {
   "cell_type": "code",
   "execution_count": 92,
   "metadata": {},
   "outputs": [],
   "source": [
    "# 提取一张图片的特定信息\n",
    "def img_info(image_path):\n",
    "    # 使用 exifread 读取 EXIF 信息\n",
    "    with open(image_path, 'rb') as img_file:\n",
    "        exif_data = exifread.process_file(img_file)\n",
    "\n",
    "    # # 查看所有可用的 EXIF 标签\n",
    "    # for tag in exif_data.keys():\n",
    "    #     print(f\"{tag}: {exif_data[tag]}\")\n",
    "\n",
    "    # 提取具体的参数（例如，焦距、快门速度等）\n",
    "    nfo = '无焦段信息'\n",
    "    focal_length = str(exif_data.get('EXIF FocalLength', nfo))\n",
    "\n",
    "    if focal_length == nfo: # 没有这个信息\n",
    "        return -1\n",
    "    else:\n",
    "        return str_to_float(focal_length)"
   ]
  },
  {
   "cell_type": "code",
   "execution_count": 93,
   "metadata": {},
   "outputs": [],
   "source": [
    "# 遍历directory下（包括所有子目录），返回jpg文件路径列表\n",
    "def find_jpg_files(directory):\n",
    "    jpg_files = []\n",
    "    # 遍历目录及其子目录\n",
    "    for root, dirs, files in os.walk(directory):\n",
    "        for file in files:\n",
    "            # 检查文件扩展名是否为 .jpg 或 .jpeg（忽略大小写）\n",
    "            if file.lower().endswith(('.jpg', '.jpeg')):\n",
    "                # 拼接文件的完整路径\n",
    "                full_path = os.path.join(root, file)\n",
    "                jpg_files.append(full_path)\n",
    "    return jpg_files"
   ]
  },
  {
   "cell_type": "code",
   "execution_count": 94,
   "metadata": {},
   "outputs": [],
   "source": [
    "# 绘制直方图\n",
    "def plot_focal_length_histogram(focal_lengths):\n",
    "\n",
    "    plt.hist(focal_lengths, bins=60, edgecolor='black', color=(0.8157, 0.9059, 0.9294), alpha=0.7)\n",
    "    \n",
    "    plt.title('Focal Length Distribution')\n",
    "    plt.xlabel('Focal Length(mm)')\n",
    "    plt.ylabel('Frequency')\n",
    "\n",
    "    # 保存图像，分辨率设置为600 DPI\n",
    "    plt.savefig('./Focal Length Distribution', dpi=600)\n",
    "    \n",
    "    plt.show()"
   ]
  },
  {
   "cell_type": "code",
   "execution_count": 100,
   "metadata": {},
   "outputs": [],
   "source": [
    "directory_path = 'D:/XS10'  # 根目录，建议复制一份，以免对原文件做出改动（虽然应该不会）\n",
    "\n",
    "jpg_files = find_jpg_files(directory_path)\n",
    "focal_lengths = []\n",
    "for image_path in jpg_files:\n",
    "    # print(image_path)\n",
    "    # print(ImgInfo(image_path))\n",
    "    focal_length = img_info(image_path)\n",
    "    if focal_length > 0:\n",
    "        focal_lengths.append(focal_length)"
   ]
  },
  {
   "cell_type": "code",
   "execution_count": 101,
   "metadata": {},
   "outputs": [
    {
     "data": {
      "image/png": "[encoded data removed]",
      "text/plain": [
       "<Figure size 640x480 with 1 Axes>"
      ]
     },
     "metadata": {},
     "output_type": "display_data"
    }
   ],
   "source": [
    "plot_focal_length_histogram(focal_lengths)"
   ]
  },
  {
   "cell_type": "code",
   "execution_count": null,
   "metadata": {},
   "outputs": [],
   "source": []
  }
 ],
 "metadata": {
  "kernelspec": {
   "display_name": "crawler",
   "language": "python",
   "name": "python3"
  },
  "language_info": {
   "codemirror_mode": {
    "name": "ipython",
    "version": 3
   },
   "file_extension": ".py",
   "mimetype": "text/x-python",
   "name": "python",
   "nbconvert_exporter": "python",
   "pygments_lexer": "ipython3",
   "version": "3.9.18"
  }
 },
 "nbformat": 4,
 "nbformat_minor": 2
}
